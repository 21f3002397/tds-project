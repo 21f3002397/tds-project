{
  "nbformat": 4,
  "nbformat_minor": 0,
  "metadata": {
    "colab": {
      "provenance": []
    },
    "kernelspec": {
      "name": "python3",
      "display_name": "Python 3"
    },
    "language_info": {
      "name": "python"
    }
  },
  "cells": [
    {
      "cell_type": "code",
      "execution_count": null,
      "metadata": {
        "id": "SxrcPwj-Lrx-"
      },
      "outputs": [],
      "source": [
        "import pandas as pd\n",
        "import numpy as np\n",
        "import requests\n",
        "import json"
      ]
    },
    {
      "cell_type": "code",
      "source": [
        "key=\"<MY TOKEN>\""
      ],
      "metadata": {
        "id": "uLMEtr29L58N"
      },
      "execution_count": null,
      "outputs": []
    },
    {
      "cell_type": "code",
      "source": [
        "users=[]\n",
        "def github(x):\n",
        "  url = \"https://api.github.com/search/users\"\n",
        "  headers = {\n",
        "      \"Accept\": \"application/vnd.github+json\",\n",
        "      \"Authorization\": f\"Bearer {key}\",\n",
        "      \"X-GitHub-Api-Version\": \"2022-11-28\"\n",
        "  }\n",
        "  payload={\n",
        "      \"q\":\"location:Sydney followers:>100\",\n",
        "      \"sort\":\"followers\",\n",
        "      \"per_page\":100,\n",
        "      \"page\":x\n",
        "  }\n",
        "  response=requests.get(url,headers=headers,params=payload)\n",
        "  return response.json()[\"items\"]"
      ],
      "metadata": {
        "id": "KVlgR5nKL-As"
      },
      "execution_count": null,
      "outputs": []
    },
    {
      "cell_type": "code",
      "source": [
        "for i in range(1,5):\n",
        "  users+=github(i)"
      ],
      "metadata": {
        "id": "U9d1eqZSMAD8"
      },
      "execution_count": null,
      "outputs": []
    },
    {
      "cell_type": "code",
      "source": [
        "users[0]"
      ],
      "metadata": {
        "id": "17n3N_6pMCP0"
      },
      "execution_count": null,
      "outputs": []
    },
    {
      "cell_type": "code",
      "source": [
        "headers = {\n",
        "      \"Accept\": \"application/vnd.github+json\",\n",
        "      \"Authorization\": f\"Bearer {key}\",\n",
        "      \"X-GitHub-Api-Version\": \"2022-11-28\"\n",
        "}\n",
        "cleaned_users=[]\n",
        "for user in users:\n",
        "  url=user[\"url\"]\n",
        "  response=requests.get(url,headers=headers)\n",
        "  cleaned_users.append(response.json())"
      ],
      "metadata": {
        "id": "H8F5KsI4MFek"
      },
      "execution_count": null,
      "outputs": []
    },
    {
      "cell_type": "code",
      "source": [
        "def get_repos(x,user):\n",
        "  url=user[\"repos_url\"]\n",
        "  headers = {\n",
        "      \"Accept\": \"application/vnd.github+json\",\n",
        "      \"Authorization\": f\"Bearer {key}\",\n",
        "      \"X-GitHub-Api-Version\": \"2022-11-28\"\n",
        "  }\n",
        "  payload={\n",
        "      \"sort\":\"pushed\",\n",
        "      \"direction\":\"desc\",\n",
        "      \"per_page\":100,\n",
        "      \"page\":x\n",
        "  }\n",
        "  response=requests.get(url,headers=headers,params=payload)\n",
        "  return response\n"
      ],
      "metadata": {
        "id": "FKqXXLivMHik"
      },
      "execution_count": null,
      "outputs": []
    },
    {
      "cell_type": "code",
      "source": [
        "headers = {\n",
        "      \"Accept\": \"application/vnd.github+json\",\n",
        "      \"Authorization\": f\"Bearer {key}\",\n",
        "      \"X-GitHub-Api-Version\": \"2022-11-28\"\n",
        "}\n",
        "repos=[]\n",
        "for user in users:\n",
        "  repo=[]\n",
        "  page=1\n",
        "  data=get_repos(page,user)\n",
        "  while data.json() and len(repo)<500:\n",
        "    data=get_repos(page,user)\n",
        "    repo+=data.json()\n",
        "    page+=1\n",
        "  repos+=repo"
      ],
      "metadata": {
        "id": "XGnJTI7KMLkU"
      },
      "execution_count": null,
      "outputs": []
    },
    {
      "cell_type": "code",
      "source": [
        "def repo_extractor(repo):\n",
        "  login=str(repo['owner']['login'])\n",
        "  fullname=str(repo['full_name'])\n",
        "  created_at=str(repo['created_at'])\n",
        "  stargazers_count=str(repo['stargazers_count'])\n",
        "  watchers_count=str(repo['watchers_count'])\n",
        "  language=str(repo['language'])\n",
        "  has_projects=str(repo['has_projects'])\n",
        "  has_wiki=str(repo['has_wiki'])\n",
        "  if repo['license'] is not None:\n",
        "    license_name=repo['license']['key']\n",
        "  else:\n",
        "    license_name=\"''\"\n",
        "  data=[login,fullname,created_at,stargazers_count,watchers_count,language,has_projects,has_wiki,license_name]\n",
        "  return data"
      ],
      "metadata": {
        "id": "rzduZC89MNh0"
      },
      "execution_count": null,
      "outputs": []
    },
    {
      "cell_type": "code",
      "source": [
        "text=[]\n",
        "for repo in repos:\n",
        "  text.append(\",\".join(repo_extractor(repo)))"
      ],
      "metadata": {
        "id": "x45atzs3MQDM"
      },
      "execution_count": null,
      "outputs": []
    },
    {
      "cell_type": "code",
      "source": [
        "text_processed=list(map(lambda x:x+\"\\n\",text))"
      ],
      "metadata": {
        "id": "XvfRPzULMR30"
      },
      "execution_count": null,
      "outputs": []
    },
    {
      "cell_type": "code",
      "source": [
        "repos_file=open(\"repos.csv\",\"w\")\n",
        "repos_file.writelines(text_processed)\n",
        "repos_file.close()"
      ],
      "metadata": {
        "id": "rob3lwEvMUDc"
      },
      "execution_count": null,
      "outputs": []
    },
    {
      "cell_type": "code",
      "source": [
        "def users_extractor(user):\n",
        "  login=user['login'].replace(\",\",\";\")\n",
        "  name=user['name'].replace(\",\",\";\") if user[\"name\"] else \"''\"\n",
        "  company=user['company'].strip().upper().replace(\"\\n\",\"\").replace(\"\\r\",\"\").replace(\",\",\";\") if user['company'] else \"''\"\n",
        "  location=user['location'].replace(\",\",\";\") if user[\"location\"] else \"''\"\n",
        "  email=user['email'].replace(\",\",\";\") if user['email'] else \"''\"\n",
        "  hireable=str(user['hireable']).replace(\",\",\";\") if user['hireable'] else \"''\"\n",
        "  bio=user['bio'].replace(\"\\n\",\"\").replace(\"\\r\",\"\").replace(\",\",\";\") if user['bio'] else r\"''\"\n",
        "  public_repos=str(user['public_repos']).replace(\",\",\";\")\n",
        "  followers=str(user['followers']).replace(\",\",\";\")\n",
        "  following=str(user['following']).replace(\",\",\";\")\n",
        "  created_at=str(user['created_at']).replace(\",\",\";\")\n",
        "  return [login,name,company,location,email,hireable,bio,public_repos,followers,following,created_at]"
      ],
      "metadata": {
        "id": "Yiewtr4HMbls"
      },
      "execution_count": null,
      "outputs": []
    },
    {
      "cell_type": "code",
      "source": [
        "text=[]\n",
        "for user in cleaned_users:\n",
        "  text.append(\",\".join(users_extractor(user)))\n",
        "text_processed=list(map(lambda x:x+\"\\n\",text))\n",
        "users_file=open(\"users.csv\",\"w\",encoding=\"utf-8\")\n",
        "users_file.writelines(text_processed)\n",
        "users_file.close()"
      ],
      "metadata": {
        "id": "u4duHpJuMdTc"
      },
      "execution_count": null,
      "outputs": []
    }
  ]
}